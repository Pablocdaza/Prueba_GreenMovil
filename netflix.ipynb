{
  "nbformat": 4,
  "nbformat_minor": 0,
  "metadata": {
    "colab": {
      "provenance": [],
      "authorship_tag": "ABX9TyPImH3jqDFl/zjw06dhKlHa"
    },
    "kernelspec": {
      "name": "python3",
      "display_name": "Python 3"
    },
    "language_info": {
      "name": "python"
    }
  },
  "cells": [
    {
      "cell_type": "markdown",
      "source": [
        "![green.png](data:image/png;base64,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)\n",
        "\n",
        "\n",
        "\n",
        "## **Prueba de Business Intelligence Specialist**\n",
        "\n",
        "\n",
        "*   Nombre: Pablo Camilo Daza\n",
        "*   CC 1014178608\n",
        "*   Cel 321 3639687\n",
        "\n",
        "\n"
      ],
      "metadata": {
        "id": "UomWFjma67Rs"
      }
    },
    {
      "cell_type": "markdown",
      "source": [
        "## Librerias a utilizar para el desarrollo de la prueba"
      ],
      "metadata": {
        "id": "kfXiVU3q7519"
      }
    },
    {
      "cell_type": "code",
      "execution_count": null,
      "metadata": {
        "id": "129RPPCRqKDK"
      },
      "outputs": [],
      "source": [
        "import pandas as pd\n",
        "import numpy as np\n",
        "import matplotlib.pyplot as plt\n",
        "import seaborn as sns"
      ]
    },
    {
      "cell_type": "markdown",
      "source": [
        "### Se extrae la información del archivo por medio de la Liberia Pandas, se realiza una revisión de la estructura de la data a trabajar\n"
      ],
      "metadata": {
        "id": "Gyu7R7uLUBsu"
      }
    },
    {
      "cell_type": "code",
      "source": [
        "Bd = pd.read_csv('/content/netflix_titles.csv', encoding='latin1')\n",
        "Bd.info()"
      ],
      "metadata": {
        "colab": {
          "base_uri": "https://localhost:8080/"
        },
        "id": "QaKIjn2jqfAD",
        "outputId": "0d59b5a8-8387-4418-f02f-f9da6e82bda7"
      },
      "execution_count": null,
      "outputs": [
        {
          "output_type": "stream",
          "name": "stdout",
          "text": [
            "<class 'pandas.core.frame.DataFrame'>\n",
            "RangeIndex: 8809 entries, 0 to 8808\n",
            "Data columns (total 26 columns):\n",
            " #   Column        Non-Null Count  Dtype  \n",
            "---  ------        --------------  -----  \n",
            " 0   show_id       8809 non-null   object \n",
            " 1   type          8809 non-null   object \n",
            " 2   title         8809 non-null   object \n",
            " 3   director      6175 non-null   object \n",
            " 4   cast          7984 non-null   object \n",
            " 5   country       7978 non-null   object \n",
            " 6   date_added    8799 non-null   object \n",
            " 7   release_year  8809 non-null   int64  \n",
            " 8   rating        8805 non-null   object \n",
            " 9   duration      8806 non-null   object \n",
            " 10  listed_in     8809 non-null   object \n",
            " 11  description   8809 non-null   object \n",
            " 12  Unnamed: 12   0 non-null      float64\n",
            " 13  Unnamed: 13   0 non-null      float64\n",
            " 14  Unnamed: 14   0 non-null      float64\n",
            " 15  Unnamed: 15   0 non-null      float64\n",
            " 16  Unnamed: 16   0 non-null      float64\n",
            " 17  Unnamed: 17   0 non-null      float64\n",
            " 18  Unnamed: 18   0 non-null      float64\n",
            " 19  Unnamed: 19   0 non-null      float64\n",
            " 20  Unnamed: 20   0 non-null      float64\n",
            " 21  Unnamed: 21   0 non-null      float64\n",
            " 22  Unnamed: 22   0 non-null      float64\n",
            " 23  Unnamed: 23   0 non-null      float64\n",
            " 24  Unnamed: 24   0 non-null      float64\n",
            " 25  Unnamed: 25   0 non-null      float64\n",
            "dtypes: float64(14), int64(1), object(11)\n",
            "memory usage: 1.7+ MB\n"
          ]
        }
      ]
    },
    {
      "cell_type": "markdown",
      "source": [
        "### Identificamos que las columnas estan despues de description se encuentran vacia por lo tanto se procede a qutarlas del Dataset"
      ],
      "metadata": {
        "id": "ASPrSjXaVIMZ"
      }
    },
    {
      "cell_type": "code",
      "source": [
        "Columnas_con_datos= Bd.columns[:Bd.columns.get_loc('description') + 1].tolist()\n",
        "Bd = Bd[Columnas_con_datos]\n",
        "Bd = Bd[Bd['type'].isin(['TV Show', 'Movie'])]\n",
        "Bd.info()"
      ],
      "metadata": {
        "colab": {
          "base_uri": "https://localhost:8080/"
        },
        "id": "UXg_67Izsmca",
        "outputId": "6871ac10-06fc-4318-af2f-4e0f0e098cb5"
      },
      "execution_count": null,
      "outputs": [
        {
          "output_type": "stream",
          "name": "stdout",
          "text": [
            "<class 'pandas.core.frame.DataFrame'>\n",
            "RangeIndex: 8809 entries, 0 to 8808\n",
            "Data columns (total 12 columns):\n",
            " #   Column        Non-Null Count  Dtype \n",
            "---  ------        --------------  ----- \n",
            " 0   show_id       8809 non-null   object\n",
            " 1   type          8809 non-null   object\n",
            " 2   title         8809 non-null   object\n",
            " 3   director      6175 non-null   object\n",
            " 4   cast          7984 non-null   object\n",
            " 5   country       7978 non-null   object\n",
            " 6   date_added    8799 non-null   object\n",
            " 7   release_year  8809 non-null   int64 \n",
            " 8   rating        8805 non-null   object\n",
            " 9   duration      8806 non-null   object\n",
            " 10  listed_in     8809 non-null   object\n",
            " 11  description   8809 non-null   object\n",
            "dtypes: int64(1), object(11)\n",
            "memory usage: 826.0+ KB\n"
          ]
        }
      ]
    },
    {
      "cell_type": "markdown",
      "source": [
        "### Eliminamos los registros que no tienen una fecha de agregación para reducir los errores al cargar los datos en la base de datos de PostgreSQL. Esta eliminación se realiza considerando que dichos registros no aportan un valor significativo que altere el sentido de la información."
      ],
      "metadata": {
        "id": "xmWBdZvR_MM2"
      }
    },
    {
      "cell_type": "code",
      "source": [
        "Bd = Bd.dropna(subset=['date_added'])\n",
        "Bd.info()"
      ],
      "metadata": {
        "colab": {
          "base_uri": "https://localhost:8080/"
        },
        "id": "7t4tl0o5Yn1y",
        "outputId": "639f2842-0341-4ec1-8e66-3e446c477a3c"
      },
      "execution_count": null,
      "outputs": [
        {
          "output_type": "stream",
          "name": "stdout",
          "text": [
            "<class 'pandas.core.frame.DataFrame'>\n",
            "Index: 8799 entries, 0 to 8808\n",
            "Data columns (total 12 columns):\n",
            " #   Column        Non-Null Count  Dtype \n",
            "---  ------        --------------  ----- \n",
            " 0   show_id       8799 non-null   object\n",
            " 1   type          8799 non-null   object\n",
            " 2   title         8799 non-null   object\n",
            " 3   director      6175 non-null   object\n",
            " 4   cast          7974 non-null   object\n",
            " 5   country       7969 non-null   object\n",
            " 6   date_added    8799 non-null   object\n",
            " 7   release_year  8799 non-null   int64 \n",
            " 8   rating        8795 non-null   object\n",
            " 9   duration      8796 non-null   object\n",
            " 10  listed_in     8799 non-null   object\n",
            " 11  description   8799 non-null   object\n",
            "dtypes: int64(1), object(11)\n",
            "memory usage: 893.6+ KB\n"
          ]
        }
      ]
    },
    {
      "cell_type": "markdown",
      "source": [
        "### Se ha identificado que en los datos proporcionados, las columnas de actores, directores, país y categoría contienen múltiples opciones. Por lo tanto, se decide iterar celda por celda en cada registro para extraer un listado de estas columnas. Esto permitirá implementar, en el proceso de carga de datos en PostgreSQL, el uso de llaves primarias y foráneas.\n"
      ],
      "metadata": {
        "id": "I6BI8--PBSxH"
      }
    },
    {
      "cell_type": "code",
      "source": [
        "\n",
        "actores = []\n",
        "\n",
        "for index, row in Bd.iterrows():\n",
        "  if isinstance(row['cast'], str):\n",
        "    cast_lista = [actor.strip() for actor in row['cast'].split(',')]\n",
        "    for actor in cast_lista:\n",
        "      if actor not in actores:\n",
        "        actores.append(actor)\n",
        "\n",
        "\n",
        "df_actores = pd.DataFrame({'Actor': actores})\n",
        "df_actores['ID_actores'] = df_actores.index + 1\n",
        "df_actores = df_actores[['ID_actores', 'Actor']]\n",
        "\n",
        "Directores = []\n",
        "\n",
        "for index, row in Bd.iterrows():\n",
        "  if isinstance(row['director'], str):\n",
        "    director_lista = [director.strip() for director in row['director'].split(',')]\n",
        "    for director in director_lista:\n",
        "      if director not in Directores:\n",
        "        Directores.append(director)\n",
        "\n",
        "\n",
        "df_directores = pd.DataFrame({'Director': Directores})\n",
        "df_directores['ID_director'] = df_directores.index + 1\n",
        "df_directores = df_directores[['ID_director', 'Director']]\n",
        "\n",
        "Paises = []\n",
        "\n",
        "for index, row in Bd.iterrows():\n",
        "  if isinstance(row['country'], str):\n",
        "    paises_lista = [pais.strip() for pais in row['country'].split(',')]\n",
        "    for pais in paises_lista:\n",
        "      if pais not in Paises:\n",
        "        Paises.append(pais)\n",
        "\n",
        "\n",
        "df_paises = pd.DataFrame({'Pais': Paises})\n",
        "df_paises['ID_pais'] = df_paises.index + 1\n",
        "df_paises= df_paises[['ID_pais', 'Pais']]\n",
        "\n",
        "Categorias = []\n",
        "\n",
        "for index, row in Bd.iterrows():\n",
        "  if isinstance(row['listed_in'], str):\n",
        "    categorias_lista = [categoria.strip() for categoria in row['listed_in'].split(',')]\n",
        "    for categoria in categorias_lista:\n",
        "      if categoria not in Categorias:\n",
        "        Categorias.append(categoria)\n",
        "\n",
        "\n",
        "df_categoria = pd.DataFrame({'Categoria': Categorias})\n",
        "df_categoria['ID_categoria'] = df_categoria.index + 1\n",
        "df_categoria= df_categoria[['ID_categoria', 'Categoria']]"
      ],
      "metadata": {
        "id": "tnOwAcazytGd"
      },
      "execution_count": null,
      "outputs": []
    },
    {
      "cell_type": "markdown",
      "source": [
        "### Se exportan las bases en formato csv ya tratadas para el cargue en la bases"
      ],
      "metadata": {
        "id": "gNStQ5_BDauu"
      }
    },
    {
      "cell_type": "code",
      "source": [
        "df_directores.to_csv('df_directores.csv', index=False)\n",
        "df_paises.to_csv('df_paises.csv', index=False)\n",
        "df_categoria.to_csv('df_categoria.csv', index=False)\n",
        "df_actores.to_csv('df_actores.csv', index=False)\n"
      ],
      "metadata": {
        "id": "8VcIkyMS8V9e"
      },
      "execution_count": null,
      "outputs": []
    },
    {
      "cell_type": "markdown",
      "source": [
        "### Para garantizar la integridad de los datos proporcionados, se crean las tablas que contendrán las llaves foráneas. Esto se lleva a cabo mediante una unión de la base de datos de Programas y las demas tablas de datos estraidas, considerando las llaves primarias establecidas en el script anterior."
      ],
      "metadata": {
        "id": "KG7_6damD3N2"
      }
    },
    {
      "cell_type": "code",
      "source": [
        "reparto = []\n",
        "\n",
        "for index, row in Bd.iterrows():\n",
        "  if isinstance(row['cast'], str):\n",
        "    cast_lista = [actor.strip() for actor in row['cast'].split(',')]\n",
        "    for actor in cast_lista:\n",
        "      reparto.append([row['show_id'], actor])\n",
        "\n",
        "df_reparto = pd.DataFrame(reparto, columns=['show_id', 'Actor'])\n",
        "df_reparto = pd.merge(df_reparto, df_actores, on='Actor', how='left')\n",
        "df_reparto = df_reparto[['show_id', 'ID_actores','Actor']]\n",
        "\n",
        "\n",
        "dirigida = []\n",
        "\n",
        "for index, row in Bd.iterrows():\n",
        "  if isinstance(row['director'], str):\n",
        "    director_lista = [director.strip() for director in row['director'].split(',')]\n",
        "    for director in director_lista:\n",
        "      dirigida.append([row['show_id'], director])\n",
        "\n",
        "df_dirigida = pd.DataFrame(dirigida, columns=['show_id', 'Director'])\n",
        "df_dirigida = pd.merge(df_dirigida, df_directores, on='Director', how='left')\n",
        "df_dirigida = df_dirigida[['show_id', 'ID_director']]\n",
        "\n",
        "pais_grabacion = []\n",
        "\n",
        "for index, row in Bd.iterrows():\n",
        "  if isinstance(row['country'], str):\n",
        "    pais_lista = [pais.strip() for pais in row['country'].split(',')]\n",
        "    for pais in pais_lista:\n",
        "      pais_grabacion.append([row['show_id'], pais])\n",
        "\n",
        "df_p_grabacion = pd.DataFrame(pais_grabacion, columns=['show_id', 'Pais'])\n",
        "df_p_grabacion = pd.merge(df_p_grabacion, df_paises, on='Pais', how='left')\n",
        "df_p_grabacion = df_p_grabacion[['show_id', 'ID_pais']]\n",
        "\n",
        "Genero = []\n",
        "\n",
        "for index, row in Bd.iterrows():\n",
        "  if isinstance(row['listed_in'], str):\n",
        "    genero_lista = [genero.strip() for genero in row['listed_in'].split(',')]\n",
        "    for genero in genero_lista:\n",
        "      Genero.append([row['show_id'], genero])\n",
        "\n",
        "df_genero = pd.DataFrame(Genero, columns=['show_id', 'Categoria'])\n",
        "df_genero = pd.merge(df_genero, df_categoria, on='Categoria', how='left')\n",
        "df_genero = df_genero[['show_id', 'ID_categoria']]"
      ],
      "metadata": {
        "id": "GeN0jb-3tIPr"
      },
      "execution_count": null,
      "outputs": []
    },
    {
      "cell_type": "markdown",
      "source": [
        "### Exportamos las bases en csv para su posterior cargue en la base de datos\n"
      ],
      "metadata": {
        "id": "nbPsZrnDF5xQ"
      }
    },
    {
      "cell_type": "code",
      "source": [
        "df_reparto.to_csv('df_reparto.csv', index=False)\n",
        "df_dirigida.to_csv('df_dirigida.csv', index=False)\n",
        "df_p_grabacion.to_csv('df_p_grabacion.csv', index=False)\n",
        "df_genero.to_csv('df_genero.csv', index=False)"
      ],
      "metadata": {
        "id": "N3COBRPrEPfl"
      },
      "execution_count": null,
      "outputs": []
    },
    {
      "cell_type": "markdown",
      "source": [
        "### Se finaliza la limpieza de datos eliminando las columnas del conjunto de datos que se iteraron. Posteriormente, se exporta la base en formato CSV para su carga en PostgreSQL."
      ],
      "metadata": {
        "id": "6KxskNHNG2rq"
      }
    },
    {
      "cell_type": "code",
      "source": [
        "Bd = Bd.drop(['listed_in', 'country', 'director', 'cast'], axis=1)\n",
        "Bd.to_csv('Bd.csv', index=False)\n",
        "Bd"
      ],
      "metadata": {
        "colab": {
          "base_uri": "https://localhost:8080/",
          "height": 423
        },
        "id": "U7hM8gIlJlT8",
        "outputId": "30d99667-a802-4ac5-e021-b17345321097"
      },
      "execution_count": null,
      "outputs": [
        {
          "output_type": "execute_result",
          "data": {
            "text/plain": [
              "     show_id     type                  title          date_added  \\\n",
              "0         s1    Movie   Dick Johnson Is Dead  September 25, 2021   \n",
              "1         s2  TV Show          Blood & Water  September 24, 2021   \n",
              "2         s3  TV Show              Ganglands  September 24, 2021   \n",
              "3         s4  TV Show  Jailbirds New Orleans  September 24, 2021   \n",
              "4         s5  TV Show           Kota Factory  September 24, 2021   \n",
              "...      ...      ...                    ...                 ...   \n",
              "8804   s8805    Movie             Zombieland    November 1, 2019   \n",
              "8805   s8806    Movie                   Zoom    January 11, 2020   \n",
              "8806   s8807    Movie                 Zubaan       March 2, 2019   \n",
              "8807   s8808  TV Show     Parasyte: The Grey       April 5, 2024   \n",
              "8808   s8809    Movie                 Serena       April 5, 2024   \n",
              "\n",
              "      release_year rating   duration  \\\n",
              "0             2020  PG-13     90 min   \n",
              "1             2021  TV-MA  2 Seasons   \n",
              "2             2021  TV-MA   1 Season   \n",
              "3             2021  TV-MA   1 Season   \n",
              "4             2021  TV-MA  2 Seasons   \n",
              "...            ...    ...        ...   \n",
              "8804          2009      R     88 min   \n",
              "8805          2006     PG     88 min   \n",
              "8806          2015  TV-14    111 min   \n",
              "8807          2024  TV-MA   1 Season   \n",
              "8808          2014      A    110 min   \n",
              "\n",
              "                                            description  \n",
              "0     As her father nears the end of his life, filmm...  \n",
              "1     After crossing paths at a party, a Cape Town t...  \n",
              "2     To protect his family from a powerful drug lor...  \n",
              "3     Feuds, flirtations and toilet talk go down amo...  \n",
              "4     In a city of coaching centers known to train I...  \n",
              "...                                                 ...  \n",
              "8804  Looking to survive in a world taken over by zo...  \n",
              "8805  Dragged from civilian life, a former superhero...  \n",
              "8806  A scrappy but poor boy worms his way into a ty...  \n",
              "8807  A new breed of parasitic aliens arrive on Eart...  \n",
              "8808  In the 1920s, a newly married couple attempt t...  \n",
              "\n",
              "[8799 rows x 8 columns]"
            ],
            "text/html": [
              "\n",
              "  <div id=\"df-70dcc140-fc91-4941-b825-9d7e36a59e88\" class=\"colab-df-container\">\n",
              "    <div>\n",
              "<style scoped>\n",
              "    .dataframe tbody tr th:only-of-type {\n",
              "        vertical-align: middle;\n",
              "    }\n",
              "\n",
              "    .dataframe tbody tr th {\n",
              "        vertical-align: top;\n",
              "    }\n",
              "\n",
              "    .dataframe thead th {\n",
              "        text-align: right;\n",
              "    }\n",
              "</style>\n",
              "<table border=\"1\" class=\"dataframe\">\n",
              "  <thead>\n",
              "    <tr style=\"text-align: right;\">\n",
              "      <th></th>\n",
              "      <th>show_id</th>\n",
              "      <th>type</th>\n",
              "      <th>title</th>\n",
              "      <th>date_added</th>\n",
              "      <th>release_year</th>\n",
              "      <th>rating</th>\n",
              "      <th>duration</th>\n",
              "      <th>description</th>\n",
              "    </tr>\n",
              "  </thead>\n",
              "  <tbody>\n",
              "    <tr>\n",
              "      <th>0</th>\n",
              "      <td>s1</td>\n",
              "      <td>Movie</td>\n",
              "      <td>Dick Johnson Is Dead</td>\n",
              "      <td>September 25, 2021</td>\n",
              "      <td>2020</td>\n",
              "      <td>PG-13</td>\n",
              "      <td>90 min</td>\n",
              "      <td>As her father nears the end of his life, filmm...</td>\n",
              "    </tr>\n",
              "    <tr>\n",
              "      <th>1</th>\n",
              "      <td>s2</td>\n",
              "      <td>TV Show</td>\n",
              "      <td>Blood &amp; Water</td>\n",
              "      <td>September 24, 2021</td>\n",
              "      <td>2021</td>\n",
              "      <td>TV-MA</td>\n",
              "      <td>2 Seasons</td>\n",
              "      <td>After crossing paths at a party, a Cape Town t...</td>\n",
              "    </tr>\n",
              "    <tr>\n",
              "      <th>2</th>\n",
              "      <td>s3</td>\n",
              "      <td>TV Show</td>\n",
              "      <td>Ganglands</td>\n",
              "      <td>September 24, 2021</td>\n",
              "      <td>2021</td>\n",
              "      <td>TV-MA</td>\n",
              "      <td>1 Season</td>\n",
              "      <td>To protect his family from a powerful drug lor...</td>\n",
              "    </tr>\n",
              "    <tr>\n",
              "      <th>3</th>\n",
              "      <td>s4</td>\n",
              "      <td>TV Show</td>\n",
              "      <td>Jailbirds New Orleans</td>\n",
              "      <td>September 24, 2021</td>\n",
              "      <td>2021</td>\n",
              "      <td>TV-MA</td>\n",
              "      <td>1 Season</td>\n",
              "      <td>Feuds, flirtations and toilet talk go down amo...</td>\n",
              "    </tr>\n",
              "    <tr>\n",
              "      <th>4</th>\n",
              "      <td>s5</td>\n",
              "      <td>TV Show</td>\n",
              "      <td>Kota Factory</td>\n",
              "      <td>September 24, 2021</td>\n",
              "      <td>2021</td>\n",
              "      <td>TV-MA</td>\n",
              "      <td>2 Seasons</td>\n",
              "      <td>In a city of coaching centers known to train I...</td>\n",
              "    </tr>\n",
              "    <tr>\n",
              "      <th>...</th>\n",
              "      <td>...</td>\n",
              "      <td>...</td>\n",
              "      <td>...</td>\n",
              "      <td>...</td>\n",
              "      <td>...</td>\n",
              "      <td>...</td>\n",
              "      <td>...</td>\n",
              "      <td>...</td>\n",
              "    </tr>\n",
              "    <tr>\n",
              "      <th>8804</th>\n",
              "      <td>s8805</td>\n",
              "      <td>Movie</td>\n",
              "      <td>Zombieland</td>\n",
              "      <td>November 1, 2019</td>\n",
              "      <td>2009</td>\n",
              "      <td>R</td>\n",
              "      <td>88 min</td>\n",
              "      <td>Looking to survive in a world taken over by zo...</td>\n",
              "    </tr>\n",
              "    <tr>\n",
              "      <th>8805</th>\n",
              "      <td>s8806</td>\n",
              "      <td>Movie</td>\n",
              "      <td>Zoom</td>\n",
              "      <td>January 11, 2020</td>\n",
              "      <td>2006</td>\n",
              "      <td>PG</td>\n",
              "      <td>88 min</td>\n",
              "      <td>Dragged from civilian life, a former superhero...</td>\n",
              "    </tr>\n",
              "    <tr>\n",
              "      <th>8806</th>\n",
              "      <td>s8807</td>\n",
              "      <td>Movie</td>\n",
              "      <td>Zubaan</td>\n",
              "      <td>March 2, 2019</td>\n",
              "      <td>2015</td>\n",
              "      <td>TV-14</td>\n",
              "      <td>111 min</td>\n",
              "      <td>A scrappy but poor boy worms his way into a ty...</td>\n",
              "    </tr>\n",
              "    <tr>\n",
              "      <th>8807</th>\n",
              "      <td>s8808</td>\n",
              "      <td>TV Show</td>\n",
              "      <td>Parasyte: The Grey</td>\n",
              "      <td>April 5, 2024</td>\n",
              "      <td>2024</td>\n",
              "      <td>TV-MA</td>\n",
              "      <td>1 Season</td>\n",
              "      <td>A new breed of parasitic aliens arrive on Eart...</td>\n",
              "    </tr>\n",
              "    <tr>\n",
              "      <th>8808</th>\n",
              "      <td>s8809</td>\n",
              "      <td>Movie</td>\n",
              "      <td>Serena</td>\n",
              "      <td>April 5, 2024</td>\n",
              "      <td>2014</td>\n",
              "      <td>A</td>\n",
              "      <td>110 min</td>\n",
              "      <td>In the 1920s, a newly married couple attempt t...</td>\n",
              "    </tr>\n",
              "  </tbody>\n",
              "</table>\n",
              "<p>8799 rows × 8 columns</p>\n",
              "</div>\n",
              "    <div class=\"colab-df-buttons\">\n",
              "\n",
              "  <div class=\"colab-df-container\">\n",
              "    <button class=\"colab-df-convert\" onclick=\"convertToInteractive('df-70dcc140-fc91-4941-b825-9d7e36a59e88')\"\n",
              "            title=\"Convert this dataframe to an interactive table.\"\n",
              "            style=\"display:none;\">\n",
              "\n",
              "  <svg xmlns=\"http://www.w3.org/2000/svg\" height=\"24px\" viewBox=\"0 -960 960 960\">\n",
              "    <path d=\"M120-120v-720h720v720H120Zm60-500h600v-160H180v160Zm220 220h160v-160H400v160Zm0 220h160v-160H400v160ZM180-400h160v-160H180v160Zm440 0h160v-160H620v160ZM180-180h160v-160H180v160Zm440 0h160v-160H620v160Z\"/>\n",
              "  </svg>\n",
              "    </button>\n",
              "\n",
              "  <style>\n",
              "    .colab-df-container {\n",
              "      display:flex;\n",
              "      gap: 12px;\n",
              "    }\n",
              "\n",
              "    .colab-df-convert {\n",
              "      background-color: #E8F0FE;\n",
              "      border: none;\n",
              "      border-radius: 50%;\n",
              "      cursor: pointer;\n",
              "      display: none;\n",
              "      fill: #1967D2;\n",
              "      height: 32px;\n",
              "      padding: 0 0 0 0;\n",
              "      width: 32px;\n",
              "    }\n",
              "\n",
              "    .colab-df-convert:hover {\n",
              "      background-color: #E2EBFA;\n",
              "      box-shadow: 0px 1px 2px rgba(60, 64, 67, 0.3), 0px 1px 3px 1px rgba(60, 64, 67, 0.15);\n",
              "      fill: #174EA6;\n",
              "    }\n",
              "\n",
              "    .colab-df-buttons div {\n",
              "      margin-bottom: 4px;\n",
              "    }\n",
              "\n",
              "    [theme=dark] .colab-df-convert {\n",
              "      background-color: #3B4455;\n",
              "      fill: #D2E3FC;\n",
              "    }\n",
              "\n",
              "    [theme=dark] .colab-df-convert:hover {\n",
              "      background-color: #434B5C;\n",
              "      box-shadow: 0px 1px 3px 1px rgba(0, 0, 0, 0.15);\n",
              "      filter: drop-shadow(0px 1px 2px rgba(0, 0, 0, 0.3));\n",
              "      fill: #FFFFFF;\n",
              "    }\n",
              "  </style>\n",
              "\n",
              "    <script>\n",
              "      const buttonEl =\n",
              "        document.querySelector('#df-70dcc140-fc91-4941-b825-9d7e36a59e88 button.colab-df-convert');\n",
              "      buttonEl.style.display =\n",
              "        google.colab.kernel.accessAllowed ? 'block' : 'none';\n",
              "\n",
              "      async function convertToInteractive(key) {\n",
              "        const element = document.querySelector('#df-70dcc140-fc91-4941-b825-9d7e36a59e88');\n",
              "        const dataTable =\n",
              "          await google.colab.kernel.invokeFunction('convertToInteractive',\n",
              "                                                    [key], {});\n",
              "        if (!dataTable) return;\n",
              "\n",
              "        const docLinkHtml = 'Like what you see? Visit the ' +\n",
              "          '<a target=\"_blank\" href=https://colab.research.google.com/notebooks/data_table.ipynb>data table notebook</a>'\n",
              "          + ' to learn more about interactive tables.';\n",
              "        element.innerHTML = '';\n",
              "        dataTable['output_type'] = 'display_data';\n",
              "        await google.colab.output.renderOutput(dataTable, element);\n",
              "        const docLink = document.createElement('div');\n",
              "        docLink.innerHTML = docLinkHtml;\n",
              "        element.appendChild(docLink);\n",
              "      }\n",
              "    </script>\n",
              "  </div>\n",
              "\n",
              "\n",
              "<div id=\"df-712bb0e9-36ee-4efe-ad5e-0505302de9b9\">\n",
              "  <button class=\"colab-df-quickchart\" onclick=\"quickchart('df-712bb0e9-36ee-4efe-ad5e-0505302de9b9')\"\n",
              "            title=\"Suggest charts\"\n",
              "            style=\"display:none;\">\n",
              "\n",
              "<svg xmlns=\"http://www.w3.org/2000/svg\" height=\"24px\"viewBox=\"0 0 24 24\"\n",
              "     width=\"24px\">\n",
              "    <g>\n",
              "        <path d=\"M19 3H5c-1.1 0-2 .9-2 2v14c0 1.1.9 2 2 2h14c1.1 0 2-.9 2-2V5c0-1.1-.9-2-2-2zM9 17H7v-7h2v7zm4 0h-2V7h2v10zm4 0h-2v-4h2v4z\"/>\n",
              "    </g>\n",
              "</svg>\n",
              "  </button>\n",
              "\n",
              "<style>\n",
              "  .colab-df-quickchart {\n",
              "      --bg-color: #E8F0FE;\n",
              "      --fill-color: #1967D2;\n",
              "      --hover-bg-color: #E2EBFA;\n",
              "      --hover-fill-color: #174EA6;\n",
              "      --disabled-fill-color: #AAA;\n",
              "      --disabled-bg-color: #DDD;\n",
              "  }\n",
              "\n",
              "  [theme=dark] .colab-df-quickchart {\n",
              "      --bg-color: #3B4455;\n",
              "      --fill-color: #D2E3FC;\n",
              "      --hover-bg-color: #434B5C;\n",
              "      --hover-fill-color: #FFFFFF;\n",
              "      --disabled-bg-color: #3B4455;\n",
              "      --disabled-fill-color: #666;\n",
              "  }\n",
              "\n",
              "  .colab-df-quickchart {\n",
              "    background-color: var(--bg-color);\n",
              "    border: none;\n",
              "    border-radius: 50%;\n",
              "    cursor: pointer;\n",
              "    display: none;\n",
              "    fill: var(--fill-color);\n",
              "    height: 32px;\n",
              "    padding: 0;\n",
              "    width: 32px;\n",
              "  }\n",
              "\n",
              "  .colab-df-quickchart:hover {\n",
              "    background-color: var(--hover-bg-color);\n",
              "    box-shadow: 0 1px 2px rgba(60, 64, 67, 0.3), 0 1px 3px 1px rgba(60, 64, 67, 0.15);\n",
              "    fill: var(--button-hover-fill-color);\n",
              "  }\n",
              "\n",
              "  .colab-df-quickchart-complete:disabled,\n",
              "  .colab-df-quickchart-complete:disabled:hover {\n",
              "    background-color: var(--disabled-bg-color);\n",
              "    fill: var(--disabled-fill-color);\n",
              "    box-shadow: none;\n",
              "  }\n",
              "\n",
              "  .colab-df-spinner {\n",
              "    border: 2px solid var(--fill-color);\n",
              "    border-color: transparent;\n",
              "    border-bottom-color: var(--fill-color);\n",
              "    animation:\n",
              "      spin 1s steps(1) infinite;\n",
              "  }\n",
              "\n",
              "  @keyframes spin {\n",
              "    0% {\n",
              "      border-color: transparent;\n",
              "      border-bottom-color: var(--fill-color);\n",
              "      border-left-color: var(--fill-color);\n",
              "    }\n",
              "    20% {\n",
              "      border-color: transparent;\n",
              "      border-left-color: var(--fill-color);\n",
              "      border-top-color: var(--fill-color);\n",
              "    }\n",
              "    30% {\n",
              "      border-color: transparent;\n",
              "      border-left-color: var(--fill-color);\n",
              "      border-top-color: var(--fill-color);\n",
              "      border-right-color: var(--fill-color);\n",
              "    }\n",
              "    40% {\n",
              "      border-color: transparent;\n",
              "      border-right-color: var(--fill-color);\n",
              "      border-top-color: var(--fill-color);\n",
              "    }\n",
              "    60% {\n",
              "      border-color: transparent;\n",
              "      border-right-color: var(--fill-color);\n",
              "    }\n",
              "    80% {\n",
              "      border-color: transparent;\n",
              "      border-right-color: var(--fill-color);\n",
              "      border-bottom-color: var(--fill-color);\n",
              "    }\n",
              "    90% {\n",
              "      border-color: transparent;\n",
              "      border-bottom-color: var(--fill-color);\n",
              "    }\n",
              "  }\n",
              "</style>\n",
              "\n",
              "  <script>\n",
              "    async function quickchart(key) {\n",
              "      const quickchartButtonEl =\n",
              "        document.querySelector('#' + key + ' button');\n",
              "      quickchartButtonEl.disabled = true;  // To prevent multiple clicks.\n",
              "      quickchartButtonEl.classList.add('colab-df-spinner');\n",
              "      try {\n",
              "        const charts = await google.colab.kernel.invokeFunction(\n",
              "            'suggestCharts', [key], {});\n",
              "      } catch (error) {\n",
              "        console.error('Error during call to suggestCharts:', error);\n",
              "      }\n",
              "      quickchartButtonEl.classList.remove('colab-df-spinner');\n",
              "      quickchartButtonEl.classList.add('colab-df-quickchart-complete');\n",
              "    }\n",
              "    (() => {\n",
              "      let quickchartButtonEl =\n",
              "        document.querySelector('#df-712bb0e9-36ee-4efe-ad5e-0505302de9b9 button');\n",
              "      quickchartButtonEl.style.display =\n",
              "        google.colab.kernel.accessAllowed ? 'block' : 'none';\n",
              "    })();\n",
              "  </script>\n",
              "</div>\n",
              "\n",
              "  <div id=\"id_679d4676-3235-415d-8e0a-6eef53cf9da2\">\n",
              "    <style>\n",
              "      .colab-df-generate {\n",
              "        background-color: #E8F0FE;\n",
              "        border: none;\n",
              "        border-radius: 50%;\n",
              "        cursor: pointer;\n",
              "        display: none;\n",
              "        fill: #1967D2;\n",
              "        height: 32px;\n",
              "        padding: 0 0 0 0;\n",
              "        width: 32px;\n",
              "      }\n",
              "\n",
              "      .colab-df-generate:hover {\n",
              "        background-color: #E2EBFA;\n",
              "        box-shadow: 0px 1px 2px rgba(60, 64, 67, 0.3), 0px 1px 3px 1px rgba(60, 64, 67, 0.15);\n",
              "        fill: #174EA6;\n",
              "      }\n",
              "\n",
              "      [theme=dark] .colab-df-generate {\n",
              "        background-color: #3B4455;\n",
              "        fill: #D2E3FC;\n",
              "      }\n",
              "\n",
              "      [theme=dark] .colab-df-generate:hover {\n",
              "        background-color: #434B5C;\n",
              "        box-shadow: 0px 1px 3px 1px rgba(0, 0, 0, 0.15);\n",
              "        filter: drop-shadow(0px 1px 2px rgba(0, 0, 0, 0.3));\n",
              "        fill: #FFFFFF;\n",
              "      }\n",
              "    </style>\n",
              "    <button class=\"colab-df-generate\" onclick=\"generateWithVariable('Bd')\"\n",
              "            title=\"Generate code using this dataframe.\"\n",
              "            style=\"display:none;\">\n",
              "\n",
              "  <svg xmlns=\"http://www.w3.org/2000/svg\" height=\"24px\"viewBox=\"0 0 24 24\"\n",
              "       width=\"24px\">\n",
              "    <path d=\"M7,19H8.4L18.45,9,17,7.55,7,17.6ZM5,21V16.75L18.45,3.32a2,2,0,0,1,2.83,0l1.4,1.43a1.91,1.91,0,0,1,.58,1.4,1.91,1.91,0,0,1-.58,1.4L9.25,21ZM18.45,9,17,7.55Zm-12,3A5.31,5.31,0,0,0,4.9,8.1,5.31,5.31,0,0,0,1,6.5,5.31,5.31,0,0,0,4.9,4.9,5.31,5.31,0,0,0,6.5,1,5.31,5.31,0,0,0,8.1,4.9,5.31,5.31,0,0,0,12,6.5,5.46,5.46,0,0,0,6.5,12Z\"/>\n",
              "  </svg>\n",
              "    </button>\n",
              "    <script>\n",
              "      (() => {\n",
              "      const buttonEl =\n",
              "        document.querySelector('#id_679d4676-3235-415d-8e0a-6eef53cf9da2 button.colab-df-generate');\n",
              "      buttonEl.style.display =\n",
              "        google.colab.kernel.accessAllowed ? 'block' : 'none';\n",
              "\n",
              "      buttonEl.onclick = () => {\n",
              "        google.colab.notebook.generateWithVariable('Bd');\n",
              "      }\n",
              "      })();\n",
              "    </script>\n",
              "  </div>\n",
              "\n",
              "    </div>\n",
              "  </div>\n"
            ],
            "application/vnd.google.colaboratory.intrinsic+json": {
              "type": "dataframe",
              "variable_name": "Bd",
              "summary": "{\n  \"name\": \"Bd\",\n  \"rows\": 8799,\n  \"fields\": [\n    {\n      \"column\": \"show_id\",\n      \"properties\": {\n        \"dtype\": \"string\",\n        \"num_unique_values\": 8799,\n        \"samples\": [\n          \"s3685\",\n          \"s7073\",\n          \"s7454\"\n        ],\n        \"semantic_type\": \"\",\n        \"description\": \"\"\n      }\n    },\n    {\n      \"column\": \"type\",\n      \"properties\": {\n        \"dtype\": \"category\",\n        \"num_unique_values\": 2,\n        \"samples\": [\n          \"TV Show\",\n          \"Movie\"\n        ],\n        \"semantic_type\": \"\",\n        \"description\": \"\"\n      }\n    },\n    {\n      \"column\": \"title\",\n      \"properties\": {\n        \"dtype\": \"string\",\n        \"num_unique_values\": 8796,\n        \"samples\": [\n          \"Chelsea\",\n          \"Ask the StoryBots\"\n        ],\n        \"semantic_type\": \"\",\n        \"description\": \"\"\n      }\n    },\n    {\n      \"column\": \"date_added\",\n      \"properties\": {\n        \"dtype\": \"category\",\n        \"num_unique_values\": 1768,\n        \"samples\": [\n          \"June 26, 2018\",\n          \"November 17, 2020\"\n        ],\n        \"semantic_type\": \"\",\n        \"description\": \"\"\n      }\n    },\n    {\n      \"column\": \"release_year\",\n      \"properties\": {\n        \"dtype\": \"number\",\n        \"std\": 8,\n        \"min\": 1925,\n        \"max\": 2024,\n        \"num_unique_values\": 75,\n        \"samples\": [\n          1996,\n          1969\n        ],\n        \"semantic_type\": \"\",\n        \"description\": \"\"\n      }\n    },\n    {\n      \"column\": \"rating\",\n      \"properties\": {\n        \"dtype\": \"category\",\n        \"num_unique_values\": 18,\n        \"samples\": [\n          \"PG-13\",\n          \"TV-MA\"\n        ],\n        \"semantic_type\": \"\",\n        \"description\": \"\"\n      }\n    },\n    {\n      \"column\": \"duration\",\n      \"properties\": {\n        \"dtype\": \"category\",\n        \"num_unique_values\": 220,\n        \"samples\": [\n          \"37 min\",\n          \"177 min\"\n        ],\n        \"semantic_type\": \"\",\n        \"description\": \"\"\n      }\n    },\n    {\n      \"column\": \"description\",\n      \"properties\": {\n        \"dtype\": \"string\",\n        \"num_unique_values\": 8767,\n        \"samples\": [\n          \"After terrorists trigger a nuclear blast in Russia, a U.S. Special Forces intelligence agent and a nuclear weapons expert come to the rescue.\",\n          \"When a young computer hacker is tasked with investigating a prying journalist, their separate missions become entangled amid a decades-old conspiracy.\"\n        ],\n        \"semantic_type\": \"\",\n        \"description\": \"\"\n      }\n    }\n  ]\n}"
            }
          },
          "metadata": {},
          "execution_count": 44
        }
      ]
    },
    {
      "cell_type": "markdown",
      "source": [
        "#Después de haber creado las distintas tablas en PostgreSQL, se procede a actualizarlas con la información procesada en este notebook.\n",
        "\n",
        "A continuacion se muestra el diagrama de relacion de las tablas"
      ],
      "metadata": {
        "id": "5rs1ZalKQH1Q"
      }
    },
    {
      "cell_type": "markdown",
      "source": [
        "![Modelo de Entidad.png](data:image/png;base64,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)"
      ],
      "metadata": {
        "id": "SXxzBDPfX4bk"
      }
    },
    {
      "cell_type": "markdown",
      "source": [
        "## Tambien se relacionan las consultas SQL para la extraccion de la informacion desde la base de datos para su posterios visualizacion en power BI"
      ],
      "metadata": {
        "id": "9JPR_z8wYCiT"
      }
    },
    {
      "cell_type": "markdown",
      "source": [
        "\n",
        "Consulta tabla relaciional dirigida por\n",
        "```\n",
        "SELECT p.show_id, d.director\n",
        "FROM programas as p\n",
        "JOIN dirigida_por as dp ON p.show_id = dp.show_id\n",
        "JOIN directores as d ON dp.iddirector = d.iddirector\n",
        ";\n",
        "```\n",
        "\n"
      ],
      "metadata": {
        "id": "3eY6axn_PnQa"
      }
    },
    {
      "cell_type": "markdown",
      "source": [
        "\n",
        "Tabla Paises de direccion\n",
        "```\n",
        "SELECT p.show_id, c.pais\n",
        "FROM programas as p\n",
        "JOIN pais_grabacion as g ON p.show_id = g.show_id\n",
        "JOIN paises as c ON g.id_pais = c.id_pais\n",
        ";\n",
        "```\n",
        "\n"
      ],
      "metadata": {
        "id": "YnyPMlAmYofj"
      }
    },
    {
      "cell_type": "markdown",
      "source": [
        "Tabla de Generos\n",
        "\n",
        "\n",
        "\n",
        "```\n",
        "SELECT p.show_id, c.categoria\n",
        "FROM programas as p\n",
        "JOIN genero as g ON p.show_id = g.show_id\n",
        "JOIN categoria as c ON g.id_categoria = c.id_categoria\n",
        ";\n",
        "```\n",
        "\n"
      ],
      "metadata": {
        "id": "hPBCbCX1ZU37"
      }
    },
    {
      "cell_type": "markdown",
      "source": [
        " Tabla de Reparto en la peliculas y series\n",
        "```\n",
        "SELECT p.show_id, a.actor\n",
        "FROM programas as p\n",
        "JOIN reparto as r ON p.show_id = r.show_id\n",
        "JOIN actores as a ON r.id_actor = a.id_actores\n",
        ";\n",
        "\n",
        "```\n",
        "\n"
      ],
      "metadata": {
        "id": "qwQKMHryZZLH"
      }
    },
    {
      "cell_type": "markdown",
      "source": [
        "Base de Programas\n",
        "\n",
        "```\n",
        "SELECT *\n",
        "FROM programas\n",
        ";\n",
        "```\n",
        "\n"
      ],
      "metadata": {
        "id": "d42U2-LbZ5H1"
      }
    }
  ]
}